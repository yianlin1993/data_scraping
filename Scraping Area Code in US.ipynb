{
 "cells": [
  {
   "cell_type": "markdown",
   "id": "english-advantage",
   "metadata": {},
   "source": [
    "## Objective\n",
    "In U.S. every city has a non-unique area code while multiple city in the same area may share one identical area code. Area code is used to indicate where the phone call is from or to in many apps.\n",
    "This script is designed to collect a list of cities for each US area code using Python and Selenium.\n",
    "The information of the area code each area is on the website (http://www.allareacodes.com/)"
   ]
  },
  {
   "cell_type": "code",
   "execution_count": null,
   "id": "going-hughes",
   "metadata": {},
   "outputs": [],
   "source": [
    "from selenium import webdriver\n",
    "from selenium.webdriver.common.by import By\n",
    "from selenium.webdriver.common.keys import Keys\n",
    "import csv"
   ]
  },
  {
   "cell_type": "markdown",
   "id": "aboriginal-secretary",
   "metadata": {},
   "source": [
    "1. Navigate to https://www.allareacodes.com/\n",
    "2. Enter an area code into the search field and search\n",
    "3. Collect the top 50 cities for that area code\n",
    "\n",
    "'AreaCodeCity.csv' is the output file which will contain area code and corresponding CITY.\n",
    "'AreaCodes.csv' is the input file which contains 411 area codes and corresponding STATE."
   ]
  },
  {
   "cell_type": "code",
   "execution_count": null,
   "id": "continental-metallic",
   "metadata": {},
   "outputs": [],
   "source": [
    "f = open('AreaCodeCity.csv', 'a')\n",
    "file='areaCodes.csv'"
   ]
  },
  {
   "cell_type": "code",
   "execution_count": null,
   "id": "scientific-refrigerator",
   "metadata": {},
   "outputs": [],
   "source": [
    "browser = webdriver.Chrome()\n",
    "file='areaCodes.csv'\n",
    "with open(file) as outfile:\n",
    "    rows = csv.reader(outfile)\n",
    "    for row in rows:\n",
    "        code = row[0]\n",
    "        print(code)\n",
    "        browser.get('http://www.allareacodes.com/')\n",
    "        elem = browser.find_element(By.ID, 'home_q')\n",
    "        elem.send_keys(code + Keys.RETURN)\n",
    "        area = browser.find_element(By.XPATH, '/html/body/div/div[3]/div[1]/h2[6]')\n",
    "        #area = browser.find_element(By.XPATH, '/html/body/div/div[3]/div[1]/h2[5]')\n",
    "        x = int(area.text.split()[1])\n",
    "        print(x)\n",
    "        for i in range(1,x+1):\n",
    "            city = browser.find_element(By.XPATH, '/html/body/div/div[3]/div[1]/div[6]/table/tbody/tr[%d]/td[1]' %i)\n",
    "            #city = browser.find_element(By.XPATH, '/html/body/div/div[3]/div[1]/div[4]/table/tbody/tr[%d]/td[1]' %i)\n",
    "            print(city.text)\n",
    "            f.write(city.text)\n",
    "            f.write('\\t')\n",
    "            f.write(code)\n",
    "            f.write('\\n')\n",
    "f.close()\n",
    "browser.quit()"
   ]
  },
  {
   "cell_type": "code",
   "execution_count": null,
   "id": "ideal-patio",
   "metadata": {},
   "outputs": [],
   "source": []
  }
 ],
 "metadata": {
  "kernelspec": {
   "display_name": "Python 3",
   "language": "python",
   "name": "python3"
  },
  "language_info": {
   "codemirror_mode": {
    "name": "ipython",
    "version": 3
   },
   "file_extension": ".py",
   "mimetype": "text/x-python",
   "name": "python",
   "nbconvert_exporter": "python",
   "pygments_lexer": "ipython3",
   "version": "3.8.2"
  }
 },
 "nbformat": 4,
 "nbformat_minor": 5
}
