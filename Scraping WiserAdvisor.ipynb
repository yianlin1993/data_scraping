{
 "cells": [
  {
   "cell_type": "markdown",
   "id": "atlantic-peoples",
   "metadata": {},
   "source": [
    "## Objective\n",
    "This script is designed to collect a list of Financial Advisor information using Python and Selenium.\n",
    "The information of the Financial Advisor in each state is on the website (https://www.wiseradvisor.com/financial-advisors.asp)"
   ]
  },
  {
   "cell_type": "code",
   "execution_count": null,
   "id": "sublime-mixture",
   "metadata": {},
   "outputs": [],
   "source": [
    "from selenium import webdriver\n",
    "from selenium.webdriver.common.by import By\n",
    "from selenium.webdriver.common.keys import Keys\n",
    "from selenium.common.exceptions import NoSuchElementException\n",
    "import csv"
   ]
  },
  {
   "cell_type": "markdown",
   "id": "invisible-messaging",
   "metadata": {},
   "source": [
    "1. Navigate to https://www.wiseradvisor.com/financial-advisors.asp\n",
    "2. Click each the hyoer link of each state.\n",
    "3. Collect the infomation of every listed financial advisor in each state.\n",
    "\n",
    "'WiserAdvisory.csv' is the output file for Financial Advisor information"
   ]
  },
  {
   "cell_type": "code",
   "execution_count": null,
   "id": "latest-thing",
   "metadata": {},
   "outputs": [],
   "source": [
    "f = open('WiserAdvisor.csv', 'a')\n",
    "f.write('\\n')"
   ]
  },
  {
   "cell_type": "code",
   "execution_count": null,
   "id": "controlling-aging",
   "metadata": {},
   "outputs": [],
   "source": [
    "browser = webdriver.Chrome()\n",
    "browser.get('https://www.wiseradvisor.com/financial-advisors.asp')"
   ]
  },
  {
   "cell_type": "code",
   "execution_count": null,
   "id": "veterinary-brown",
   "metadata": {},
   "outputs": [],
   "source": [
    "a = 1\n",
    "try:\n",
    "    state = browser.find_element(By.XPATH, '/html/body/section/div/div/div[2]/ul[1]/li[%d]/a' %a)\n",
    "    while state.text != \"\":\n",
    "        state = browser.find_element(By.XPATH, '/html/body/section/div/div/div[2]/ul[1]/li[%d]/a' %a)\n",
    "        print(state.text)\n",
    "        state.send_keys(Keys.RETURN)\n",
    "\n",
    "        i = 1\n",
    "        try:\n",
    "            Name = browser.find_element(By.XPATH, '/html/body/section[2]/div/div/div[1]/div[4]/div[%d]/div[1]/span/div/div/div[2]/a/h3' %i)\n",
    "            while Name.text != \"\":\n",
    "                print(Name.text)\n",
    "                f.write(Name.text)\n",
    "                f.write('\\t')\n",
    "                URL = browser.find_element(By.XPATH,'/html/body/section[2]/div/div/div[1]/div[4]/div[%d]/div[1]/span/div/div/div[2]/a' %i).get_attribute('href')\n",
    "                print(URL)\n",
    "                f.write(URL)\n",
    "                f.write('\\t')\n",
    "                company = browser.find_element(By.XPATH, '/html/body/section[2]/div/div/div[1]/div[4]/div[%d]/div[1]/span/div/div/div[2]/a/span/b' %i)\n",
    "                print(company.text)\n",
    "                f.write(company.text)\n",
    "                f.write('\\t')\n",
    "                Fee = browser.find_element(By.XPATH, '/html/body/section[2]/div/div/div[1]/div[4]/div[%d]/div[1]/span/div/div/div[4]/div/p[2]/span' %i)\n",
    "                print(Fee.text)\n",
    "                f.write(Fee.text)\n",
    "                f.write('\\t')\n",
    "                if Fee == None:\n",
    "                    phone = browser.find_element(By.XPATH, '/html/body/section[2]/div/div/div[1]/div[4]/div[%d]/div[1]/span/div/div/div[4]/div/p[2]/span[2]' %i)\n",
    "                else:\n",
    "                    phone = browser.find_element(By.XPATH, '/html/body/section[2]/div/div/div[1]/div[4]/div[%d]/div[1]/span/div/div/div[4]/div/p[3]/span[2]' %i)\n",
    "                print(phone.text)\n",
    "                f.write(phone.text)\n",
    "                f.write('\\t')\n",
    "                Zip = browser.find_element(By.XPATH, '/html/body/section[2]/div/div/div[1]/div[4]/div[%d]/div[1]/span/div/div/div[4]/div/p[3]/span[1]/span[3]' %i)\n",
    "                print(Zip.text)\n",
    "                f.write(Zip.text)\n",
    "                f.write('\\t')\n",
    "                Address = browser.find_element(By.XPATH, '/html/body/section[2]/div/div/div[1]/div[4]/div[%d]/div[1]/span/div/div/div[4]/div/p[3]/span[1]' %i)\n",
    "                print(Address.text)\n",
    "                f.write(Address.text)\n",
    "                f.write('\\n')\n",
    "                i += 1\n",
    "        except NoSuchElementException:\n",
    "            pass\n",
    "        a += 1\n",
    "        browser.get('https://www.wiseradvisor.com/financial-advisors.asp')\n",
    "except NoSuchElementException:\n",
    "    pass"
   ]
  },
  {
   "cell_type": "code",
   "execution_count": null,
   "id": "behavioral-judge",
   "metadata": {},
   "outputs": [],
   "source": [
    "f.close()\n",
    "browser.quit()"
   ]
  }
 ],
 "metadata": {
  "kernelspec": {
   "display_name": "Python 3",
   "language": "python",
   "name": "python3"
  },
  "language_info": {
   "codemirror_mode": {
    "name": "ipython",
    "version": 3
   },
   "file_extension": ".py",
   "mimetype": "text/x-python",
   "name": "python",
   "nbconvert_exporter": "python",
   "pygments_lexer": "ipython3",
   "version": "3.8.2"
  }
 },
 "nbformat": 4,
 "nbformat_minor": 5
}
